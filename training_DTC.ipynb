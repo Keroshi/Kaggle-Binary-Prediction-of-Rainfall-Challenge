{
 "cells": [
  {
   "cell_type": "code",
   "id": "initial_id",
   "metadata": {
    "collapsed": true,
    "ExecuteTime": {
     "end_time": "2025-03-04T15:18:33.677431Z",
     "start_time": "2025-03-04T15:18:33.670920Z"
    }
   },
   "source": [
    "import pandas as pd\n",
    "from sklearn.tree import DecisionTreeClassifier\n",
    "from sklearn.preprocessing import StandardScaler\n",
    "from sklearn.metrics import roc_auc_score\n",
    "from sklearn.model_selection import train_test_split, GridSearchCV"
   ],
   "outputs": [],
   "execution_count": 38
  },
  {
   "metadata": {
    "ExecuteTime": {
     "end_time": "2025-03-04T15:16:52.232524Z",
     "start_time": "2025-03-04T15:16:52.180921Z"
    }
   },
   "cell_type": "code",
   "source": [
    "train_df = pd.read_csv(\"./inputs/train.csv\").set_index(\"id\")\n",
    "target = train_df[\"rainfall\"]\n",
    "train_df.drop(\"rainfall\", inplace=True, axis=1)\n",
    "train_df"
   ],
   "id": "96cd118f8c7a7dee",
   "outputs": [
    {
     "data": {
      "text/plain": [
       "      day  pressure  maxtemp  temparature  mintemp  dewpoint  humidity  cloud  \\\n",
       "id                                                                              \n",
       "0       1    1017.4     21.2         20.6     19.9      19.4      87.0   88.0   \n",
       "1       2    1019.5     16.2         16.9     15.8      15.4      95.0   91.0   \n",
       "2       3    1024.1     19.4         16.1     14.6       9.3      75.0   47.0   \n",
       "3       4    1013.4     18.1         17.8     16.9      16.8      95.0   95.0   \n",
       "4       5    1021.8     21.3         18.4     15.2       9.6      52.0   45.0   \n",
       "...   ...       ...      ...          ...      ...       ...       ...    ...   \n",
       "2185  361    1014.6     23.2         20.6     19.1      19.9      97.0   88.0   \n",
       "2186  362    1012.4     17.2         17.3     16.3      15.3      91.0   88.0   \n",
       "2187  363    1013.3     19.0         16.3     14.3      12.6      79.0   79.0   \n",
       "2188  364    1022.3     16.4         15.2     13.8      14.7      92.0   93.0   \n",
       "2189  365    1013.8     21.2         19.1     18.0      18.0      89.0   88.0   \n",
       "\n",
       "      sunshine  winddirection  windspeed  \n",
       "id                                        \n",
       "0          1.1           60.0       17.2  \n",
       "1          0.0           50.0       21.9  \n",
       "2          8.3           70.0       18.1  \n",
       "3          0.0           60.0       35.6  \n",
       "4          3.6           40.0       24.8  \n",
       "...        ...            ...        ...  \n",
       "2185       0.1           40.0       22.1  \n",
       "2186       0.0           50.0       35.3  \n",
       "2187       5.0           40.0       32.9  \n",
       "2188       0.1           40.0       18.0  \n",
       "2189       1.0           70.0       48.0  \n",
       "\n",
       "[2190 rows x 11 columns]"
      ],
      "text/html": [
       "<div>\n",
       "<style scoped>\n",
       "    .dataframe tbody tr th:only-of-type {\n",
       "        vertical-align: middle;\n",
       "    }\n",
       "\n",
       "    .dataframe tbody tr th {\n",
       "        vertical-align: top;\n",
       "    }\n",
       "\n",
       "    .dataframe thead th {\n",
       "        text-align: right;\n",
       "    }\n",
       "</style>\n",
       "<table border=\"1\" class=\"dataframe\">\n",
       "  <thead>\n",
       "    <tr style=\"text-align: right;\">\n",
       "      <th></th>\n",
       "      <th>day</th>\n",
       "      <th>pressure</th>\n",
       "      <th>maxtemp</th>\n",
       "      <th>temparature</th>\n",
       "      <th>mintemp</th>\n",
       "      <th>dewpoint</th>\n",
       "      <th>humidity</th>\n",
       "      <th>cloud</th>\n",
       "      <th>sunshine</th>\n",
       "      <th>winddirection</th>\n",
       "      <th>windspeed</th>\n",
       "    </tr>\n",
       "    <tr>\n",
       "      <th>id</th>\n",
       "      <th></th>\n",
       "      <th></th>\n",
       "      <th></th>\n",
       "      <th></th>\n",
       "      <th></th>\n",
       "      <th></th>\n",
       "      <th></th>\n",
       "      <th></th>\n",
       "      <th></th>\n",
       "      <th></th>\n",
       "      <th></th>\n",
       "    </tr>\n",
       "  </thead>\n",
       "  <tbody>\n",
       "    <tr>\n",
       "      <th>0</th>\n",
       "      <td>1</td>\n",
       "      <td>1017.4</td>\n",
       "      <td>21.2</td>\n",
       "      <td>20.6</td>\n",
       "      <td>19.9</td>\n",
       "      <td>19.4</td>\n",
       "      <td>87.0</td>\n",
       "      <td>88.0</td>\n",
       "      <td>1.1</td>\n",
       "      <td>60.0</td>\n",
       "      <td>17.2</td>\n",
       "    </tr>\n",
       "    <tr>\n",
       "      <th>1</th>\n",
       "      <td>2</td>\n",
       "      <td>1019.5</td>\n",
       "      <td>16.2</td>\n",
       "      <td>16.9</td>\n",
       "      <td>15.8</td>\n",
       "      <td>15.4</td>\n",
       "      <td>95.0</td>\n",
       "      <td>91.0</td>\n",
       "      <td>0.0</td>\n",
       "      <td>50.0</td>\n",
       "      <td>21.9</td>\n",
       "    </tr>\n",
       "    <tr>\n",
       "      <th>2</th>\n",
       "      <td>3</td>\n",
       "      <td>1024.1</td>\n",
       "      <td>19.4</td>\n",
       "      <td>16.1</td>\n",
       "      <td>14.6</td>\n",
       "      <td>9.3</td>\n",
       "      <td>75.0</td>\n",
       "      <td>47.0</td>\n",
       "      <td>8.3</td>\n",
       "      <td>70.0</td>\n",
       "      <td>18.1</td>\n",
       "    </tr>\n",
       "    <tr>\n",
       "      <th>3</th>\n",
       "      <td>4</td>\n",
       "      <td>1013.4</td>\n",
       "      <td>18.1</td>\n",
       "      <td>17.8</td>\n",
       "      <td>16.9</td>\n",
       "      <td>16.8</td>\n",
       "      <td>95.0</td>\n",
       "      <td>95.0</td>\n",
       "      <td>0.0</td>\n",
       "      <td>60.0</td>\n",
       "      <td>35.6</td>\n",
       "    </tr>\n",
       "    <tr>\n",
       "      <th>4</th>\n",
       "      <td>5</td>\n",
       "      <td>1021.8</td>\n",
       "      <td>21.3</td>\n",
       "      <td>18.4</td>\n",
       "      <td>15.2</td>\n",
       "      <td>9.6</td>\n",
       "      <td>52.0</td>\n",
       "      <td>45.0</td>\n",
       "      <td>3.6</td>\n",
       "      <td>40.0</td>\n",
       "      <td>24.8</td>\n",
       "    </tr>\n",
       "    <tr>\n",
       "      <th>...</th>\n",
       "      <td>...</td>\n",
       "      <td>...</td>\n",
       "      <td>...</td>\n",
       "      <td>...</td>\n",
       "      <td>...</td>\n",
       "      <td>...</td>\n",
       "      <td>...</td>\n",
       "      <td>...</td>\n",
       "      <td>...</td>\n",
       "      <td>...</td>\n",
       "      <td>...</td>\n",
       "    </tr>\n",
       "    <tr>\n",
       "      <th>2185</th>\n",
       "      <td>361</td>\n",
       "      <td>1014.6</td>\n",
       "      <td>23.2</td>\n",
       "      <td>20.6</td>\n",
       "      <td>19.1</td>\n",
       "      <td>19.9</td>\n",
       "      <td>97.0</td>\n",
       "      <td>88.0</td>\n",
       "      <td>0.1</td>\n",
       "      <td>40.0</td>\n",
       "      <td>22.1</td>\n",
       "    </tr>\n",
       "    <tr>\n",
       "      <th>2186</th>\n",
       "      <td>362</td>\n",
       "      <td>1012.4</td>\n",
       "      <td>17.2</td>\n",
       "      <td>17.3</td>\n",
       "      <td>16.3</td>\n",
       "      <td>15.3</td>\n",
       "      <td>91.0</td>\n",
       "      <td>88.0</td>\n",
       "      <td>0.0</td>\n",
       "      <td>50.0</td>\n",
       "      <td>35.3</td>\n",
       "    </tr>\n",
       "    <tr>\n",
       "      <th>2187</th>\n",
       "      <td>363</td>\n",
       "      <td>1013.3</td>\n",
       "      <td>19.0</td>\n",
       "      <td>16.3</td>\n",
       "      <td>14.3</td>\n",
       "      <td>12.6</td>\n",
       "      <td>79.0</td>\n",
       "      <td>79.0</td>\n",
       "      <td>5.0</td>\n",
       "      <td>40.0</td>\n",
       "      <td>32.9</td>\n",
       "    </tr>\n",
       "    <tr>\n",
       "      <th>2188</th>\n",
       "      <td>364</td>\n",
       "      <td>1022.3</td>\n",
       "      <td>16.4</td>\n",
       "      <td>15.2</td>\n",
       "      <td>13.8</td>\n",
       "      <td>14.7</td>\n",
       "      <td>92.0</td>\n",
       "      <td>93.0</td>\n",
       "      <td>0.1</td>\n",
       "      <td>40.0</td>\n",
       "      <td>18.0</td>\n",
       "    </tr>\n",
       "    <tr>\n",
       "      <th>2189</th>\n",
       "      <td>365</td>\n",
       "      <td>1013.8</td>\n",
       "      <td>21.2</td>\n",
       "      <td>19.1</td>\n",
       "      <td>18.0</td>\n",
       "      <td>18.0</td>\n",
       "      <td>89.0</td>\n",
       "      <td>88.0</td>\n",
       "      <td>1.0</td>\n",
       "      <td>70.0</td>\n",
       "      <td>48.0</td>\n",
       "    </tr>\n",
       "  </tbody>\n",
       "</table>\n",
       "<p>2190 rows × 11 columns</p>\n",
       "</div>"
      ]
     },
     "execution_count": 9,
     "metadata": {},
     "output_type": "execute_result"
    }
   ],
   "execution_count": 9
  },
  {
   "metadata": {
    "ExecuteTime": {
     "end_time": "2025-03-04T15:16:52.280757Z",
     "start_time": "2025-03-04T15:16:52.261111Z"
    }
   },
   "cell_type": "code",
   "source": [
    "# Scale the data\n",
    "scaler = StandardScaler()\n",
    "scaler.fit(train_df)\n",
    "scaled_data = scaler.transform(train_df)\n",
    "scaled_data"
   ],
   "id": "6764631094fe58dd",
   "outputs": [
    {
     "data": {
      "text/plain": [
       "array([[-1.70136083,  0.67170214, -0.91380916, ..., -0.72939738,\n",
       "        -0.56090052, -0.4652908 ],\n",
       "       [-1.69185328,  1.04311572, -1.79828913, ..., -1.03280391,\n",
       "        -0.6859253 ,  0.00962944],\n",
       "       [-1.68234573,  1.85668833, -1.23222195, ...,  1.25653632,\n",
       "        -0.43587575, -0.37434863],\n",
       "       ...,\n",
       "       [ 1.74037217, -0.05343865, -1.30298035, ...,  0.34631671,\n",
       "        -0.81095007,  1.12114491],\n",
       "       [ 1.74987972,  1.53833383, -1.76290993, ..., -1.0052215 ,\n",
       "        -0.81095007, -0.38445331],\n",
       "       [ 1.75938727,  0.03499315, -0.91380916, ..., -0.75697979,\n",
       "        -0.43587575,  2.6469525 ]])"
      ]
     },
     "execution_count": 10,
     "metadata": {},
     "output_type": "execute_result"
    }
   ],
   "execution_count": 10
  },
  {
   "metadata": {
    "ExecuteTime": {
     "end_time": "2025-03-04T15:16:52.403501Z",
     "start_time": "2025-03-04T15:16:52.378203Z"
    }
   },
   "cell_type": "code",
   "source": "X_train, X_test, y_train, y_test = train_test_split(scaled_data, target, test_size=0.2, random_state=42)",
   "id": "fd02e42a9743151c",
   "outputs": [],
   "execution_count": 11
  },
  {
   "metadata": {
    "ExecuteTime": {
     "end_time": "2025-03-04T15:30:15.081943Z",
     "start_time": "2025-03-04T15:30:15.058012Z"
    }
   },
   "cell_type": "code",
   "source": [
    "clf = DecisionTreeClassifier(max_depth=4, min_samples_split=5, min_samples_leaf=6)\n",
    "clf.fit(X_train, y_train)\n",
    "y_pred = clf.predict(X_test)\n",
    "score = roc_auc_score(y_test, y_pred)\n",
    "print(score)"
   ],
   "id": "d360b464bd05af92",
   "outputs": [
    {
     "name": "stdout",
     "output_type": "stream",
     "text": [
      "0.7802086351782092\n"
     ]
    }
   ],
   "execution_count": 44
  },
  {
   "metadata": {
    "ExecuteTime": {
     "end_time": "2025-03-04T15:28:33.247309Z",
     "start_time": "2025-03-04T15:27:24.873200Z"
    }
   },
   "cell_type": "code",
   "source": [
    "parameter = {\n",
    "    'criterion': [\"gini\", \"entropy\"],\n",
    "    'max_depth': [1, 2, 3, 4, 5, 6, 6, 7, 8, 9, 10],\n",
    "    'min_samples_split': [2, 3, 4, 5, 6, 7, 8, 9, 10],\n",
    "    'min_samples_leaf': [1, 2, 3, 4, 5, 6, 7, 8, 9, 10]\n",
    "}\n",
    "base_model = DecisionTreeClassifier()\n",
    "grid = GridSearchCV(base_model, parameter, scoring=\"roc_auc\", n_jobs=-1, verbose=3)\n",
    "grid.fit(X_train, y_train)\n",
    "y_pred = grid.predict(X_test)\n",
    "score = roc_auc_score(y_test, y_pred)\n",
    "print(score)"
   ],
   "id": "e721b68a6b7ffb9",
   "outputs": [
    {
     "name": "stdout",
     "output_type": "stream",
     "text": [
      "Fitting 5 folds for each of 1980 candidates, totalling 9900 fits\n",
      "0.7802086351782092\n"
     ]
    }
   ],
   "execution_count": 41
  },
  {
   "metadata": {
    "ExecuteTime": {
     "end_time": "2025-03-04T15:28:33.440477Z",
     "start_time": "2025-03-04T15:28:33.413313Z"
    }
   },
   "cell_type": "code",
   "source": [
    "print(grid.best_score_)\n",
    "print(grid.best_params_)"
   ],
   "id": "89cd27b7819bf98c",
   "outputs": [
    {
     "name": "stdout",
     "output_type": "stream",
     "text": [
      "0.8794051162747772\n",
      "{'criterion': 'gini', 'max_depth': 4, 'min_samples_leaf': 5, 'min_samples_split': 6}\n"
     ]
    }
   ],
   "execution_count": 42
  }
 ],
 "metadata": {
  "kernelspec": {
   "display_name": "Python 3",
   "language": "python",
   "name": "python3"
  },
  "language_info": {
   "codemirror_mode": {
    "name": "ipython",
    "version": 2
   },
   "file_extension": ".py",
   "mimetype": "text/x-python",
   "name": "python",
   "nbconvert_exporter": "python",
   "pygments_lexer": "ipython2",
   "version": "2.7.6"
  }
 },
 "nbformat": 4,
 "nbformat_minor": 5
}
